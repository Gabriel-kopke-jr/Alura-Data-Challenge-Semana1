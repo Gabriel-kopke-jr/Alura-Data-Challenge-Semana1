{
 "cells": [
  {
   "cell_type": "code",
   "execution_count": 224,
   "id": "3bdfff99",
   "metadata": {},
   "outputs": [],
   "source": [
    "import json\n",
    "import pandas as pd"
   ]
  },
  {
   "cell_type": "code",
   "execution_count": 225,
   "id": "64ac9319",
   "metadata": {},
   "outputs": [],
   "source": [
    "data = open(\"Telco-Customer-Churn.json\",encoding =\"utf-8\")\n",
    "dados = json.load(data)"
   ]
  },
  {
   "cell_type": "code",
   "execution_count": 226,
   "id": "2462b024",
   "metadata": {},
   "outputs": [],
   "source": [
    "df = pd.DataFrame(dados)"
   ]
  },
  {
   "cell_type": "code",
   "execution_count": 227,
   "id": "0931dec5",
   "metadata": {},
   "outputs": [],
   "source": [
    "customer = pd.DataFrame(list(df[\"customer\"]))\n",
    "customer = customer.rename({\"gender\":\"customer_gender\",\"SeniorCitizen\":\"customer_SeniorCitizen\",\"Partner\":\"customer_Partner\",\n",
    "          \"Dependents\":\"customer_Dependents\",\"tenure\":\"customer_tenure\"},axis = \"columns\")"
   ]
  },
  {
   "cell_type": "code",
   "execution_count": 228,
   "id": "8736abb1",
   "metadata": {},
   "outputs": [],
   "source": [
    "df2 = df.join(customer)"
   ]
  },
  {
   "cell_type": "code",
   "execution_count": 229,
   "id": "019708b0",
   "metadata": {},
   "outputs": [],
   "source": [
    "phone = pd.DataFrame(list(df2['phone']))\n",
    "phone = phone.rename({\"PhoneService\":\"Phone_PhoneService\",\"MultipleLines\":\"Phone_MultipleLines\"},axis = \"columns\")\n",
    "df3 = df2.join(phone)"
   ]
  },
  {
   "cell_type": "code",
   "execution_count": 230,
   "id": "16852142",
   "metadata": {},
   "outputs": [],
   "source": [
    "internet = pd.DataFrame(list(df3[\"internet\"]))\n",
    "\n",
    "\n",
    "internet = internet.rename({\"InternetService\":\"internet_InternetService\",\"OnlineSecurity\":\"internet_OnlineSecurity\",\n",
    "                           \"OnlineBackup\":\"internet_OnlineBackup\",\"DeviceProtection\":\"internet_DeviceProtection\",\n",
    "                           \"TechSupport\":\"internet_TechSupport\",\"StreamingTV\":\"internet_StreamingTV\",\n",
    "                           \"StreamingMovies\":\"internet_StreamingMovies\"},axis = \"columns\")"
   ]
  },
  {
   "cell_type": "code",
   "execution_count": 231,
   "id": "7d3736ac",
   "metadata": {},
   "outputs": [],
   "source": [
    "df4 = df3.join(internet)"
   ]
  },
  {
   "cell_type": "code",
   "execution_count": 232,
   "id": "b22ab7cd",
   "metadata": {},
   "outputs": [],
   "source": [
    "account = pd.DataFrame(list(df4[\"account\"]))\n",
    "account = account.rename({\"Contract\":\"account_Contract\",\"PaperlessBilling\":\"account_PaperlessBilling\",\n",
    "                         \"PaymentMethod\":\"account_PaymentMethod\",\"Charges\":\"account_Charges\"},axis = \"columns\")"
   ]
  },
  {
   "cell_type": "code",
   "execution_count": 233,
   "id": "2ea7e538",
   "metadata": {},
   "outputs": [],
   "source": [
    "df5 = df4.join(account)"
   ]
  },
  {
   "cell_type": "code",
   "execution_count": 234,
   "id": "33b3937a",
   "metadata": {},
   "outputs": [],
   "source": [
    "account_charges = pd.DataFrame(list(df5['account_Charges']))\n",
    "account_charges = account_charges.rename({\"Monthly\":\"account_charges_Monthly\",\"Total\":\"account_charges_Total\"}\n",
    "                                        ,axis=\"columns\")"
   ]
  },
  {
   "cell_type": "code",
   "execution_count": 235,
   "id": "b22115ed",
   "metadata": {},
   "outputs": [],
   "source": [
    "df6 = df5.join(account_charges)"
   ]
  },
  {
   "cell_type": "code",
   "execution_count": 236,
   "id": "3cc05b9e",
   "metadata": {},
   "outputs": [],
   "source": [
    "base_de_dados = df6.drop(columns = [\"customer\",\"phone\",\"internet\",\"account\",\"account_Charges\"])"
   ]
  },
  {
   "cell_type": "code",
   "execution_count": 237,
   "id": "e513ebfe",
   "metadata": {},
   "outputs": [
    {
     "data": {
      "text/plain": [
       "customerID                    object\n",
       "Churn                         object\n",
       "customer_gender               object\n",
       "customer_SeniorCitizen         int64\n",
       "customer_Partner              object\n",
       "customer_Dependents           object\n",
       "customer_tenure                int64\n",
       "Phone_PhoneService            object\n",
       "Phone_MultipleLines           object\n",
       "internet_InternetService      object\n",
       "internet_OnlineSecurity       object\n",
       "internet_OnlineBackup         object\n",
       "internet_DeviceProtection     object\n",
       "internet_TechSupport          object\n",
       "internet_StreamingTV          object\n",
       "internet_StreamingMovies      object\n",
       "account_Contract              object\n",
       "account_PaperlessBilling      object\n",
       "account_PaymentMethod         object\n",
       "account_charges_Monthly      float64\n",
       "account_charges_Total         object\n",
       "dtype: object"
      ]
     },
     "execution_count": 237,
     "metadata": {},
     "output_type": "execute_result"
    }
   ],
   "source": [
    "base_de_dados.dtypes"
   ]
  },
  {
   "cell_type": "code",
   "execution_count": 238,
   "id": "52a85eab",
   "metadata": {},
   "outputs": [
    {
     "name": "stdout",
     "output_type": "stream",
     "text": [
      "['No' 'Yes' '']\n",
      "['Female' 'Male']\n",
      "[0 1]\n",
      "['Yes' 'No']\n",
      "['Yes' 'No']\n",
      "['Yes' 'No']\n",
      "['No' 'Yes' 'No phone service']\n",
      "['DSL' 'Fiber optic' 'No']\n",
      "['No' 'Yes' 'No internet service']\n",
      "['Yes' 'No' 'No internet service']\n",
      "['No' 'Yes' 'No internet service']\n",
      "['Yes' 'No' 'No internet service']\n",
      "['Yes' 'No' 'No internet service']\n",
      "['No' 'Yes' 'No internet service']\n",
      "['One year' 'Month-to-month' 'Two year']\n",
      "['Yes' 'No']\n",
      "['Mailed check' 'Electronic check' 'Credit card (automatic)'\n",
      " 'Bank transfer (automatic)']\n",
      "[65.6  59.9  73.9  ... 91.75 68.8  67.85]\n",
      "['593.3' '542.4' '280.85' ... '742.9' '4627.65' '3707.6']\n"
     ]
    }
   ],
   "source": [
    "for coluna in base_de_dados.columns:\n",
    "    if coluna in [\"customerID\",\"customer_tenure\"]:\n",
    "        continue\n",
    "    print(base_de_dados[coluna].unique())"
   ]
  },
  {
   "cell_type": "code",
   "execution_count": 239,
   "id": "63648a7b",
   "metadata": {},
   "outputs": [
    {
     "data": {
      "text/plain": [
       "Index(['customerID', 'Churn', 'customer_gender', 'customer_SeniorCitizen',\n",
       "       'customer_Partner', 'customer_Dependents', 'customer_tenure',\n",
       "       'Phone_PhoneService', 'Phone_MultipleLines', 'internet_InternetService',\n",
       "       'internet_OnlineSecurity', 'internet_OnlineBackup',\n",
       "       'internet_DeviceProtection', 'internet_TechSupport',\n",
       "       'internet_StreamingTV', 'internet_StreamingMovies', 'account_Contract',\n",
       "       'account_PaperlessBilling', 'account_PaymentMethod',\n",
       "       'account_charges_Monthly', 'account_charges_Total'],\n",
       "      dtype='object')"
      ]
     },
     "execution_count": 239,
     "metadata": {},
     "output_type": "execute_result"
    }
   ],
   "source": [
    "base_de_dados.columns"
   ]
  },
  {
   "cell_type": "code",
   "execution_count": 240,
   "id": "9f05bcee",
   "metadata": {},
   "outputs": [],
   "source": [
    "traducao_colunas ={\n",
    "    'customerID':'ClienteID',\n",
    "    'Churn':'Saiu_da_empresa',\n",
    "    'customer_gender':'genero_do_cliente',\n",
    "    'customer_SeniorCitizen':'Cliente_mais_de_65',\n",
    "    'customer_Partner':'Cliente_possui_parceira',\n",
    "    'customer_Dependents':'Cliente_possui_dependentes',\n",
    "    'customer_tenure':'Meses_contrato_cliente',\n",
    "    'Phone_PhoneService':'Assinatura_servico_telefonico',\n",
    "    'Phone_MultipleLines':'Assinatura_de_mais_linhas',\n",
    "    'internet_InternetService':'Assinatura_de_provedor',\n",
    "    'internet_OnlineSecurity':'Internet_add_com_ass_seguranca',\n",
    "    'internet_OnlineBackup':'Assinatura_add_backup_online',\n",
    "    'internet_DeviceProtection':'Assinatura_add_protecao_disp',\n",
    "    'internet_TechSupport':'Assinatura_add_suporte_tecnico',\n",
    "    'internet_StreamingTV':'Assinatura_tv_cabo',\n",
    "    'internet_StreamingMovies':'Assinatura_servico_stream',\n",
    "    'account_Contract':'Tipo_contrato',\n",
    "    'account_PaperlessBilling':'Cliente_com_fatura_online',\n",
    "    'account_PaymentMethod':'Metodo_pagamento',\n",
    "    'account_charges_Monthly':'Total_servicos_mensais_conta',\n",
    "    'account_charges_Total':'Gasto_total_cliente'\n",
    "}"
   ]
  },
  {
   "cell_type": "code",
   "execution_count": 241,
   "id": "ce45d7e1",
   "metadata": {},
   "outputs": [],
   "source": [
    "base_de_dados.rename(traducao_colunas,axis='columns',inplace = True)"
   ]
  },
  {
   "cell_type": "code",
   "execution_count": 242,
   "id": "77c84adf",
   "metadata": {},
   "outputs": [
    {
     "data": {
      "text/plain": [
       "(7267, 21)"
      ]
     },
     "execution_count": 242,
     "metadata": {},
     "output_type": "execute_result"
    }
   ],
   "source": [
    "base_de_dados.shape"
   ]
  },
  {
   "cell_type": "code",
   "execution_count": 243,
   "id": "31fa28c0",
   "metadata": {},
   "outputs": [],
   "source": [
    "base_de_dados = base_de_dados[base_de_dados['Gasto_total_cliente'] != ' ']"
   ]
  },
  {
   "cell_type": "code",
   "execution_count": 244,
   "id": "6fa4ef95",
   "metadata": {},
   "outputs": [
    {
     "data": {
      "text/plain": [
       "(7256, 21)"
      ]
     },
     "execution_count": 244,
     "metadata": {},
     "output_type": "execute_result"
    }
   ],
   "source": [
    "base_de_dados.shape"
   ]
  },
  {
   "cell_type": "code",
   "execution_count": 245,
   "id": "eb0a47b3",
   "metadata": {},
   "outputs": [
    {
     "data": {
      "text/plain": [
       "0.15136920324755332"
      ]
     },
     "execution_count": 245,
     "metadata": {},
     "output_type": "execute_result"
    }
   ],
   "source": [
    "perda = 1-7256.0/7267.0\n",
    "perda*100"
   ]
  },
  {
   "cell_type": "code",
   "execution_count": 246,
   "id": "e14438a0",
   "metadata": {},
   "outputs": [],
   "source": [
    "base_de_dados['Gasto_total_cliente'] = base_de_dados['Gasto_total_cliente'].astype(float)"
   ]
  },
  {
   "cell_type": "code",
   "execution_count": 247,
   "id": "0ba943aa",
   "metadata": {},
   "outputs": [
    {
     "data": {
      "text/plain": [
       "ClienteID                          object\n",
       "Saiu_da_empresa                    object\n",
       "genero_do_cliente                  object\n",
       "Cliente_mais_de_65                  int64\n",
       "Cliente_possui_parceira            object\n",
       "Cliente_possui_dependentes         object\n",
       "Meses_contrato_cliente              int64\n",
       "Assinatura_servico_telefonico      object\n",
       "Assinatura_de_mais_linhas          object\n",
       "Assinatura_de_provedor             object\n",
       "Internet_add_com_ass_seguranca     object\n",
       "Assinatura_add_backup_online       object\n",
       "Assinatura_add_protecao_disp       object\n",
       "Assinatura_add_suporte_tecnico     object\n",
       "Assinatura_tv_cabo                 object\n",
       "Assinatura_servico_stream          object\n",
       "Tipo_contrato                      object\n",
       "Cliente_com_fatura_online          object\n",
       "Metodo_pagamento                   object\n",
       "Total_servicos_mensais_conta      float64\n",
       "Gasto_total_cliente               float64\n",
       "dtype: object"
      ]
     },
     "execution_count": 247,
     "metadata": {},
     "output_type": "execute_result"
    }
   ],
   "source": [
    "base_de_dados.dtypes"
   ]
  },
  {
   "cell_type": "code",
   "execution_count": 248,
   "id": "0d17e967",
   "metadata": {},
   "outputs": [],
   "source": [
    "base_de_dados['Gasto_diario_cliente'] = base_de_dados['Gasto_total_cliente']/365.0"
   ]
  },
  {
   "cell_type": "code",
   "execution_count": 249,
   "id": "56f71a38",
   "metadata": {},
   "outputs": [],
   "source": [
    "base_de_dados['Gasto_semanal_cliente'] = base_de_dados['Gasto_total_cliente']/52.1429"
   ]
  },
  {
   "cell_type": "code",
   "execution_count": 250,
   "id": "2e9b0e3a",
   "metadata": {},
   "outputs": [
    {
     "data": {
      "text/html": [
       "<div>\n",
       "<style scoped>\n",
       "    .dataframe tbody tr th:only-of-type {\n",
       "        vertical-align: middle;\n",
       "    }\n",
       "\n",
       "    .dataframe tbody tr th {\n",
       "        vertical-align: top;\n",
       "    }\n",
       "\n",
       "    .dataframe thead th {\n",
       "        text-align: right;\n",
       "    }\n",
       "</style>\n",
       "<table border=\"1\" class=\"dataframe\">\n",
       "  <thead>\n",
       "    <tr style=\"text-align: right;\">\n",
       "      <th></th>\n",
       "      <th>ClienteID</th>\n",
       "      <th>Saiu_da_empresa</th>\n",
       "      <th>genero_do_cliente</th>\n",
       "      <th>Cliente_mais_de_65</th>\n",
       "      <th>Cliente_possui_parceira</th>\n",
       "      <th>Cliente_possui_dependentes</th>\n",
       "      <th>Meses_contrato_cliente</th>\n",
       "      <th>Assinatura_servico_telefonico</th>\n",
       "      <th>Assinatura_de_mais_linhas</th>\n",
       "      <th>Assinatura_de_provedor</th>\n",
       "      <th>...</th>\n",
       "      <th>Assinatura_add_suporte_tecnico</th>\n",
       "      <th>Assinatura_tv_cabo</th>\n",
       "      <th>Assinatura_servico_stream</th>\n",
       "      <th>Tipo_contrato</th>\n",
       "      <th>Cliente_com_fatura_online</th>\n",
       "      <th>Metodo_pagamento</th>\n",
       "      <th>Total_servicos_mensais_conta</th>\n",
       "      <th>Gasto_total_cliente</th>\n",
       "      <th>Gasto_diario_cliente</th>\n",
       "      <th>Gasto_semanal_cliente</th>\n",
       "    </tr>\n",
       "  </thead>\n",
       "  <tbody>\n",
       "    <tr>\n",
       "      <th>0</th>\n",
       "      <td>0002-ORFBO</td>\n",
       "      <td>No</td>\n",
       "      <td>Female</td>\n",
       "      <td>0</td>\n",
       "      <td>Yes</td>\n",
       "      <td>Yes</td>\n",
       "      <td>9</td>\n",
       "      <td>Yes</td>\n",
       "      <td>No</td>\n",
       "      <td>DSL</td>\n",
       "      <td>...</td>\n",
       "      <td>Yes</td>\n",
       "      <td>Yes</td>\n",
       "      <td>No</td>\n",
       "      <td>One year</td>\n",
       "      <td>Yes</td>\n",
       "      <td>Mailed check</td>\n",
       "      <td>65.60</td>\n",
       "      <td>593.30</td>\n",
       "      <td>1.625479</td>\n",
       "      <td>11.378347</td>\n",
       "    </tr>\n",
       "    <tr>\n",
       "      <th>1</th>\n",
       "      <td>0003-MKNFE</td>\n",
       "      <td>No</td>\n",
       "      <td>Male</td>\n",
       "      <td>0</td>\n",
       "      <td>No</td>\n",
       "      <td>No</td>\n",
       "      <td>9</td>\n",
       "      <td>Yes</td>\n",
       "      <td>Yes</td>\n",
       "      <td>DSL</td>\n",
       "      <td>...</td>\n",
       "      <td>No</td>\n",
       "      <td>No</td>\n",
       "      <td>Yes</td>\n",
       "      <td>Month-to-month</td>\n",
       "      <td>No</td>\n",
       "      <td>Mailed check</td>\n",
       "      <td>59.90</td>\n",
       "      <td>542.40</td>\n",
       "      <td>1.486027</td>\n",
       "      <td>10.402183</td>\n",
       "    </tr>\n",
       "    <tr>\n",
       "      <th>2</th>\n",
       "      <td>0004-TLHLJ</td>\n",
       "      <td>Yes</td>\n",
       "      <td>Male</td>\n",
       "      <td>0</td>\n",
       "      <td>No</td>\n",
       "      <td>No</td>\n",
       "      <td>4</td>\n",
       "      <td>Yes</td>\n",
       "      <td>No</td>\n",
       "      <td>Fiber optic</td>\n",
       "      <td>...</td>\n",
       "      <td>No</td>\n",
       "      <td>No</td>\n",
       "      <td>No</td>\n",
       "      <td>Month-to-month</td>\n",
       "      <td>Yes</td>\n",
       "      <td>Electronic check</td>\n",
       "      <td>73.90</td>\n",
       "      <td>280.85</td>\n",
       "      <td>0.769452</td>\n",
       "      <td>5.386160</td>\n",
       "    </tr>\n",
       "    <tr>\n",
       "      <th>3</th>\n",
       "      <td>0011-IGKFF</td>\n",
       "      <td>Yes</td>\n",
       "      <td>Male</td>\n",
       "      <td>1</td>\n",
       "      <td>Yes</td>\n",
       "      <td>No</td>\n",
       "      <td>13</td>\n",
       "      <td>Yes</td>\n",
       "      <td>No</td>\n",
       "      <td>Fiber optic</td>\n",
       "      <td>...</td>\n",
       "      <td>No</td>\n",
       "      <td>Yes</td>\n",
       "      <td>Yes</td>\n",
       "      <td>Month-to-month</td>\n",
       "      <td>Yes</td>\n",
       "      <td>Electronic check</td>\n",
       "      <td>98.00</td>\n",
       "      <td>1237.85</td>\n",
       "      <td>3.391370</td>\n",
       "      <td>23.739570</td>\n",
       "    </tr>\n",
       "    <tr>\n",
       "      <th>4</th>\n",
       "      <td>0013-EXCHZ</td>\n",
       "      <td>Yes</td>\n",
       "      <td>Female</td>\n",
       "      <td>1</td>\n",
       "      <td>Yes</td>\n",
       "      <td>No</td>\n",
       "      <td>3</td>\n",
       "      <td>Yes</td>\n",
       "      <td>No</td>\n",
       "      <td>Fiber optic</td>\n",
       "      <td>...</td>\n",
       "      <td>Yes</td>\n",
       "      <td>Yes</td>\n",
       "      <td>No</td>\n",
       "      <td>Month-to-month</td>\n",
       "      <td>Yes</td>\n",
       "      <td>Mailed check</td>\n",
       "      <td>83.90</td>\n",
       "      <td>267.40</td>\n",
       "      <td>0.732603</td>\n",
       "      <td>5.128215</td>\n",
       "    </tr>\n",
       "    <tr>\n",
       "      <th>...</th>\n",
       "      <td>...</td>\n",
       "      <td>...</td>\n",
       "      <td>...</td>\n",
       "      <td>...</td>\n",
       "      <td>...</td>\n",
       "      <td>...</td>\n",
       "      <td>...</td>\n",
       "      <td>...</td>\n",
       "      <td>...</td>\n",
       "      <td>...</td>\n",
       "      <td>...</td>\n",
       "      <td>...</td>\n",
       "      <td>...</td>\n",
       "      <td>...</td>\n",
       "      <td>...</td>\n",
       "      <td>...</td>\n",
       "      <td>...</td>\n",
       "      <td>...</td>\n",
       "      <td>...</td>\n",
       "      <td>...</td>\n",
       "      <td>...</td>\n",
       "    </tr>\n",
       "    <tr>\n",
       "      <th>7262</th>\n",
       "      <td>9987-LUTYD</td>\n",
       "      <td>No</td>\n",
       "      <td>Female</td>\n",
       "      <td>0</td>\n",
       "      <td>No</td>\n",
       "      <td>No</td>\n",
       "      <td>13</td>\n",
       "      <td>Yes</td>\n",
       "      <td>No</td>\n",
       "      <td>DSL</td>\n",
       "      <td>...</td>\n",
       "      <td>Yes</td>\n",
       "      <td>No</td>\n",
       "      <td>No</td>\n",
       "      <td>One year</td>\n",
       "      <td>No</td>\n",
       "      <td>Mailed check</td>\n",
       "      <td>55.15</td>\n",
       "      <td>742.90</td>\n",
       "      <td>2.035342</td>\n",
       "      <td>14.247386</td>\n",
       "    </tr>\n",
       "    <tr>\n",
       "      <th>7263</th>\n",
       "      <td>9992-RRAMN</td>\n",
       "      <td>Yes</td>\n",
       "      <td>Male</td>\n",
       "      <td>0</td>\n",
       "      <td>Yes</td>\n",
       "      <td>No</td>\n",
       "      <td>22</td>\n",
       "      <td>Yes</td>\n",
       "      <td>Yes</td>\n",
       "      <td>Fiber optic</td>\n",
       "      <td>...</td>\n",
       "      <td>No</td>\n",
       "      <td>No</td>\n",
       "      <td>Yes</td>\n",
       "      <td>Month-to-month</td>\n",
       "      <td>Yes</td>\n",
       "      <td>Electronic check</td>\n",
       "      <td>85.10</td>\n",
       "      <td>1873.70</td>\n",
       "      <td>5.133425</td>\n",
       "      <td>35.933943</td>\n",
       "    </tr>\n",
       "    <tr>\n",
       "      <th>7264</th>\n",
       "      <td>9992-UJOEL</td>\n",
       "      <td>No</td>\n",
       "      <td>Male</td>\n",
       "      <td>0</td>\n",
       "      <td>No</td>\n",
       "      <td>No</td>\n",
       "      <td>2</td>\n",
       "      <td>Yes</td>\n",
       "      <td>No</td>\n",
       "      <td>DSL</td>\n",
       "      <td>...</td>\n",
       "      <td>No</td>\n",
       "      <td>No</td>\n",
       "      <td>No</td>\n",
       "      <td>Month-to-month</td>\n",
       "      <td>Yes</td>\n",
       "      <td>Mailed check</td>\n",
       "      <td>50.30</td>\n",
       "      <td>92.75</td>\n",
       "      <td>0.254110</td>\n",
       "      <td>1.778766</td>\n",
       "    </tr>\n",
       "    <tr>\n",
       "      <th>7265</th>\n",
       "      <td>9993-LHIEB</td>\n",
       "      <td>No</td>\n",
       "      <td>Male</td>\n",
       "      <td>0</td>\n",
       "      <td>Yes</td>\n",
       "      <td>Yes</td>\n",
       "      <td>67</td>\n",
       "      <td>Yes</td>\n",
       "      <td>No</td>\n",
       "      <td>DSL</td>\n",
       "      <td>...</td>\n",
       "      <td>Yes</td>\n",
       "      <td>No</td>\n",
       "      <td>Yes</td>\n",
       "      <td>Two year</td>\n",
       "      <td>No</td>\n",
       "      <td>Mailed check</td>\n",
       "      <td>67.85</td>\n",
       "      <td>4627.65</td>\n",
       "      <td>12.678493</td>\n",
       "      <td>88.749379</td>\n",
       "    </tr>\n",
       "    <tr>\n",
       "      <th>7266</th>\n",
       "      <td>9995-HOTOH</td>\n",
       "      <td>No</td>\n",
       "      <td>Male</td>\n",
       "      <td>0</td>\n",
       "      <td>Yes</td>\n",
       "      <td>Yes</td>\n",
       "      <td>63</td>\n",
       "      <td>No</td>\n",
       "      <td>No phone service</td>\n",
       "      <td>DSL</td>\n",
       "      <td>...</td>\n",
       "      <td>No</td>\n",
       "      <td>Yes</td>\n",
       "      <td>Yes</td>\n",
       "      <td>Two year</td>\n",
       "      <td>No</td>\n",
       "      <td>Electronic check</td>\n",
       "      <td>59.00</td>\n",
       "      <td>3707.60</td>\n",
       "      <td>10.157808</td>\n",
       "      <td>71.104599</td>\n",
       "    </tr>\n",
       "  </tbody>\n",
       "</table>\n",
       "<p>7256 rows × 23 columns</p>\n",
       "</div>"
      ],
      "text/plain": [
       "       ClienteID Saiu_da_empresa genero_do_cliente  Cliente_mais_de_65  \\\n",
       "0     0002-ORFBO              No            Female                   0   \n",
       "1     0003-MKNFE              No              Male                   0   \n",
       "2     0004-TLHLJ             Yes              Male                   0   \n",
       "3     0011-IGKFF             Yes              Male                   1   \n",
       "4     0013-EXCHZ             Yes            Female                   1   \n",
       "...          ...             ...               ...                 ...   \n",
       "7262  9987-LUTYD              No            Female                   0   \n",
       "7263  9992-RRAMN             Yes              Male                   0   \n",
       "7264  9992-UJOEL              No              Male                   0   \n",
       "7265  9993-LHIEB              No              Male                   0   \n",
       "7266  9995-HOTOH              No              Male                   0   \n",
       "\n",
       "     Cliente_possui_parceira Cliente_possui_dependentes  \\\n",
       "0                        Yes                        Yes   \n",
       "1                         No                         No   \n",
       "2                         No                         No   \n",
       "3                        Yes                         No   \n",
       "4                        Yes                         No   \n",
       "...                      ...                        ...   \n",
       "7262                      No                         No   \n",
       "7263                     Yes                         No   \n",
       "7264                      No                         No   \n",
       "7265                     Yes                        Yes   \n",
       "7266                     Yes                        Yes   \n",
       "\n",
       "      Meses_contrato_cliente Assinatura_servico_telefonico  \\\n",
       "0                          9                           Yes   \n",
       "1                          9                           Yes   \n",
       "2                          4                           Yes   \n",
       "3                         13                           Yes   \n",
       "4                          3                           Yes   \n",
       "...                      ...                           ...   \n",
       "7262                      13                           Yes   \n",
       "7263                      22                           Yes   \n",
       "7264                       2                           Yes   \n",
       "7265                      67                           Yes   \n",
       "7266                      63                            No   \n",
       "\n",
       "     Assinatura_de_mais_linhas Assinatura_de_provedor  ...  \\\n",
       "0                           No                    DSL  ...   \n",
       "1                          Yes                    DSL  ...   \n",
       "2                           No            Fiber optic  ...   \n",
       "3                           No            Fiber optic  ...   \n",
       "4                           No            Fiber optic  ...   \n",
       "...                        ...                    ...  ...   \n",
       "7262                        No                    DSL  ...   \n",
       "7263                       Yes            Fiber optic  ...   \n",
       "7264                        No                    DSL  ...   \n",
       "7265                        No                    DSL  ...   \n",
       "7266          No phone service                    DSL  ...   \n",
       "\n",
       "     Assinatura_add_suporte_tecnico Assinatura_tv_cabo  \\\n",
       "0                               Yes                Yes   \n",
       "1                                No                 No   \n",
       "2                                No                 No   \n",
       "3                                No                Yes   \n",
       "4                               Yes                Yes   \n",
       "...                             ...                ...   \n",
       "7262                            Yes                 No   \n",
       "7263                             No                 No   \n",
       "7264                             No                 No   \n",
       "7265                            Yes                 No   \n",
       "7266                             No                Yes   \n",
       "\n",
       "     Assinatura_servico_stream   Tipo_contrato Cliente_com_fatura_online  \\\n",
       "0                           No        One year                       Yes   \n",
       "1                          Yes  Month-to-month                        No   \n",
       "2                           No  Month-to-month                       Yes   \n",
       "3                          Yes  Month-to-month                       Yes   \n",
       "4                           No  Month-to-month                       Yes   \n",
       "...                        ...             ...                       ...   \n",
       "7262                        No        One year                        No   \n",
       "7263                       Yes  Month-to-month                       Yes   \n",
       "7264                        No  Month-to-month                       Yes   \n",
       "7265                       Yes        Two year                        No   \n",
       "7266                       Yes        Two year                        No   \n",
       "\n",
       "      Metodo_pagamento Total_servicos_mensais_conta Gasto_total_cliente  \\\n",
       "0         Mailed check                        65.60              593.30   \n",
       "1         Mailed check                        59.90              542.40   \n",
       "2     Electronic check                        73.90              280.85   \n",
       "3     Electronic check                        98.00             1237.85   \n",
       "4         Mailed check                        83.90              267.40   \n",
       "...                ...                          ...                 ...   \n",
       "7262      Mailed check                        55.15              742.90   \n",
       "7263  Electronic check                        85.10             1873.70   \n",
       "7264      Mailed check                        50.30               92.75   \n",
       "7265      Mailed check                        67.85             4627.65   \n",
       "7266  Electronic check                        59.00             3707.60   \n",
       "\n",
       "     Gasto_diario_cliente  Gasto_semanal_cliente  \n",
       "0                1.625479              11.378347  \n",
       "1                1.486027              10.402183  \n",
       "2                0.769452               5.386160  \n",
       "3                3.391370              23.739570  \n",
       "4                0.732603               5.128215  \n",
       "...                   ...                    ...  \n",
       "7262             2.035342              14.247386  \n",
       "7263             5.133425              35.933943  \n",
       "7264             0.254110               1.778766  \n",
       "7265            12.678493              88.749379  \n",
       "7266            10.157808              71.104599  \n",
       "\n",
       "[7256 rows x 23 columns]"
      ]
     },
     "execution_count": 250,
     "metadata": {},
     "output_type": "execute_result"
    }
   ],
   "source": [
    "base_de_dados"
   ]
  },
  {
   "cell_type": "code",
   "execution_count": null,
   "id": "de639aca",
   "metadata": {},
   "outputs": [],
   "source": []
  }
 ],
 "metadata": {
  "kernelspec": {
   "display_name": "Python 3 (ipykernel)",
   "language": "python",
   "name": "python3"
  },
  "language_info": {
   "codemirror_mode": {
    "name": "ipython",
    "version": 3
   },
   "file_extension": ".py",
   "mimetype": "text/x-python",
   "name": "python",
   "nbconvert_exporter": "python",
   "pygments_lexer": "ipython3",
   "version": "3.9.7"
  }
 },
 "nbformat": 4,
 "nbformat_minor": 5
}
