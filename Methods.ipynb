{
 "cells": [
  {
   "cell_type": "code",
   "execution_count": null,
   "id": "0ca0fc30",
   "metadata": {},
   "outputs": [],
   "source": [
    "def read_data(file,encoding):\n",
    "    data = open(file,encoding = encoding)\n",
    "    dados = json.load(data)\n",
    "    return pd.DataFrame(dados)\n",
    "    "
   ]
  },
  {
   "cell_type": "code",
   "execution_count": null,
   "id": "7a1ed7d8",
   "metadata": {},
   "outputs": [],
   "source": [
    "def unpack_customer(dataframe):\n",
    "    customer = pd.DataFrame(list(dataframe[\"customer\"]))\n",
    "    customer = customer.rename({\"gender\":\"customer_gender\",\"SeniorCitizen\":\"customer_SeniorCitizen\",\"Partner\":\"customer_Partner\",\n",
    "          \"Dependents\":\"customer_Dependents\",\"tenure\":\"customer_tenure\"},axis = \"columns\")\n",
    "    return dataframe.join(customer)   "
   ]
  },
  {
   "cell_type": "code",
   "execution_count": null,
   "id": "9230dc56",
   "metadata": {},
   "outputs": [],
   "source": [
    "def unpack_phone(dataframe):\n",
    "    phone = pd.DataFrame(list(dataframe['phone']))\n",
    "    phone = phone.rename({\"PhoneService\":\"Phone_PhoneService\",\"MultipleLines\":\"Phone_MultipleLines\"},axis = \"columns\")\n",
    "    return dataframe.join(phone)"
   ]
  },
  {
   "cell_type": "code",
   "execution_count": null,
   "id": "1e2edea7",
   "metadata": {},
   "outputs": [],
   "source": [
    "def unpack_internet(dataframe):\n",
    "    internet = pd.DataFrame(list(dataframe[\"internet\"]))\n",
    "\n",
    "    internet = internet.rename({\"InternetService\":\"internet_InternetService\",\"OnlineSecurity\":\"internet_OnlineSecurity\",\n",
    "                           \"OnlineBackup\":\"internet_OnlineBackup\",\"DeviceProtection\":\"internet_DeviceProtection\",\n",
    "                           \"TechSupport\":\"internet_TechSupport\",\"StreamingTV\":\"internet_StreamingTV\",\n",
    "                           \"StreamingMovies\":\"internet_StreamingMovies\"},axis = \"columns\")\n",
    "    return dataframe.join(internet)\n",
    "    "
   ]
  },
  {
   "cell_type": "code",
   "execution_count": null,
   "id": "85f5a59c",
   "metadata": {},
   "outputs": [],
   "source": [
    "def unpack_account(dataframe):\n",
    "    account = pd.DataFrame(list(dataframe[\"account\"]))\n",
    "    account = account.rename({\"Contract\":\"account_Contract\",\"PaperlessBilling\":\"account_PaperlessBilling\",\n",
    "                         \"PaymentMethod\":\"account_PaymentMethod\",\"Charges\":\"account_Charges\"},axis = \"columns\")\n",
    "    return dataframe.join(account)\n",
    "    "
   ]
  },
  {
   "cell_type": "code",
   "execution_count": null,
   "id": "eee634f1",
   "metadata": {},
   "outputs": [],
   "source": [
    "def unpack_charges(dataframe):\n",
    "    account_charges = pd.DataFrame(list(dataframe['account_Charges']))\n",
    "    account_charges = account_charges.rename({\"Monthly\":\"account_charges_Monthly\",\"Total\":\"account_charges_Total\"}\n",
    "                                        ,axis=\"columns\")\n",
    "    return dataframe.join(account_charges)"
   ]
  },
  {
   "cell_type": "code",
   "execution_count": null,
   "id": "4eb29e07",
   "metadata": {},
   "outputs": [],
   "source": [
    "def remove_colunas_primitivas(dataframe):\n",
    "    return dataframe.drop(columns = [\"customer\",\"phone\",\"internet\",\"account\",\"account_Charges\"])"
   ]
  },
  {
   "cell_type": "code",
   "execution_count": 2,
   "id": "739271f1",
   "metadata": {},
   "outputs": [],
   "source": [
    "def traduz_colunas(dataframe):\n",
    "    \n",
    "    traducao_colunas = {\n",
    "    'customerID':'ClienteID',\n",
    "    'Churn':'Saiu_da_empresa',\n",
    "    'customer_gender':'genero_do_cliente',\n",
    "    'customer_SeniorCitizen':'Cliente_mais_de_65',\n",
    "    'customer_Partner':'Cliente_possui_parceira',\n",
    "    'customer_Dependents':'Cliente_possui_dependentes',\n",
    "    'customer_tenure':'Meses_contrato_cliente',\n",
    "    'Phone_PhoneService':'Assinatura_servico_telefonico',\n",
    "    'Phone_MultipleLines':'Assinatura_de_mais_linhas',\n",
    "    'internet_InternetService':'Assinatura_de_provedor',\n",
    "    'internet_OnlineSecurity':'Internet_add_com_ass_seguranca',\n",
    "    'internet_OnlineBackup':'Assinatura_add_backup_online',\n",
    "    'internet_DeviceProtection':'Assinatura_add_protecao_disp',\n",
    "    'internet_TechSupport':'Assinatura_add_suporte_tecnico',\n",
    "    'internet_StreamingTV':'Assinatura_tv_cabo',\n",
    "    'internet_StreamingMovies':'Assinatura_servico_stream',\n",
    "    'account_Contract':'Tipo_contrato',\n",
    "    'account_PaperlessBilling':'Cliente_com_fatura_online',\n",
    "    'account_PaymentMethod':'Metodo_pagamento',\n",
    "    'account_charges_Monthly':'Total_servicos_mensais_conta',\n",
    "    'account_charges_Total':'Gasto_total_cliente'}\n",
    "    df = dataframe.rename(traducao_colunas,axis='columns')\n",
    "    return df"
   ]
  },
  {
   "cell_type": "code",
   "execution_count": null,
   "id": "d9cae9a4",
   "metadata": {},
   "outputs": [],
   "source": [
    "def remove_blank(dataframe):\n",
    "    \n",
    "    df = dataframe[dataframe['Gasto_total_cliente'] != ' ']\n",
    "    df = df[df['Saiu_da_empresa']!= '']\n",
    "    \n",
    "    aux = df.shape[0]/dataframe.shape[0]\n",
    "    perda = (1-aux)*100\n",
    "    return df,perda"
   ]
  },
  {
   "cell_type": "code",
   "execution_count": null,
   "id": "36938d63",
   "metadata": {},
   "outputs": [],
   "source": [
    "def create_features_gasto_semanal_e_diario(dataframe):\n",
    "    dataframe['Gasto_total_cliente'] = dataframe['Gasto_total_cliente'].astype(float)\n",
    "    dataframe['Gasto_diario_cliente'] = dataframe['Gasto_total_cliente']/365.0\n",
    "    dataframe['Gasto_semanal_cliente'] = dataframe['Gasto_total_cliente']/52.1429\n",
    "    return dataframe\n",
    "    "
   ]
  },
  {
   "cell_type": "code",
   "execution_count": null,
   "id": "e06593e3",
   "metadata": {},
   "outputs": [],
   "source": [
    "def convert_str_feature_Cliente_mais_de_65(dataframe):\n",
    "    dataframe['Cliente_mais_de_65'] = dataframe['Cliente_mais_de_65'].astype(str)\n",
    "    return dataframe"
   ]
  }
 ],
 "metadata": {
  "kernelspec": {
   "display_name": "Python 3 (ipykernel)",
   "language": "python",
   "name": "python3"
  },
  "language_info": {
   "codemirror_mode": {
    "name": "ipython",
    "version": 3
   },
   "file_extension": ".py",
   "mimetype": "text/x-python",
   "name": "python",
   "nbconvert_exporter": "python",
   "pygments_lexer": "ipython3",
   "version": "3.9.7"
  }
 },
 "nbformat": 4,
 "nbformat_minor": 5
}
